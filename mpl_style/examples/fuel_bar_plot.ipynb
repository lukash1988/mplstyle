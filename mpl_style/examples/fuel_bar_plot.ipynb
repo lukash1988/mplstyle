{
 "cells": [
  {
   "cell_type": "markdown",
   "metadata": {
    "slideshow": {
     "slide_type": "slide"
    }
   },
   "source": [
    "Beispiel für die Anwendung des `mpl_style` Paket\n",
    "------\n",
    "\n",
    "Mit dem Paket hat man folgende Möglichkeiten seinen `Plot style` zu definieren:\n",
    "* plt_style: Einstellung der Formatierungen; default: ('default')\n",
    "* color_style: Eigene Farben festlegen; default: ('default')\n",
    "* color_order_style: Eigene Farben in eine gewünschte Reihenfolge sortieren; default: ('default')\n",
    "* enable_color_order: Auswahl der Reihnenfolge ein oder ausschalten; default: (False)"
   ]
  },
  {
   "cell_type": "code",
   "execution_count": 2,
   "metadata": {
    "collapsed": false,
    "slideshow": {
     "slide_type": "fragment"
    }
   },
   "outputs": [
    {
     "data": {
      "application/javascript": [
       "IPython.notebook.set_autosave_interval(3000)"
      ]
     },
     "metadata": {},
     "output_type": "display_data"
    },
    {
     "name": "stdout",
     "output_type": "stream",
     "text": [
      "Autosaving every 3 seconds\n"
     ]
    }
   ],
   "source": [
    "%matplotlib inline\n",
    "%autosave 3"
   ]
  },
  {
   "cell_type": "code",
   "execution_count": 3,
   "metadata": {
    "collapsed": false,
    "slideshow": {
     "slide_type": "slide"
    }
   },
   "outputs": [],
   "source": [
    "import pandas as pd\n",
    "import numpy as np\n",
    "import matplotlib.pyplot as plt\n",
    "import matplotlib as mpl"
   ]
  },
  {
   "cell_type": "markdown",
   "metadata": {
    "slideshow": {
     "slide_type": "fragment"
    }
   },
   "source": [
    "#### Klasse `mpl_style` importieren\n",
    "\n",
    "* beim initialisieren wird automatisch der default Style eingestellt"
   ]
  },
  {
   "cell_type": "code",
   "execution_count": 4,
   "metadata": {
    "collapsed": true,
    "slideshow": {
     "slide_type": "-"
    }
   },
   "outputs": [],
   "source": [
    "from mpl_style.style_ewk import PLTewk\n",
    "ewk_plt = PLTewk()"
   ]
  },
  {
   "cell_type": "markdown",
   "metadata": {
    "slideshow": {
     "slide_type": "slide"
    }
   },
   "source": [
    "Doku für den Befehl `set_style` anschauen:"
   ]
  },
  {
   "cell_type": "code",
   "execution_count": 5,
   "metadata": {
    "collapsed": true,
    "slideshow": {
     "slide_type": "-"
    }
   },
   "outputs": [
    {
     "data": {
      "text/plain": [
       "\u001b[1;31mSignature:\u001b[0m \u001b[0mewk_plt\u001b[0m\u001b[1;33m.\u001b[0m\u001b[0mset_style\u001b[0m\u001b[1;33m(\u001b[0m\u001b[0menable_color_order\u001b[0m\u001b[1;33m=\u001b[0m\u001b[1;32mFalse\u001b[0m\u001b[1;33m,\u001b[0m \u001b[1;33m**\u001b[0m\u001b[0mkwargs\u001b[0m\u001b[1;33m)\u001b[0m\u001b[1;33m\u001b[0m\u001b[0m\n",
       "\u001b[1;31mDocstring:\u001b[0m\n",
       "Set plot style, colors and color order.\n",
       "\n",
       "Args:\n",
       "    enable_color_order: optional enable color_order_style;\n",
       "            default: (False)\n",
       "    plt_style: optional string for plt style; default: ('default')\n",
       "    color_style: optional string for color order; default: ('default')\n",
       "    color_order_style: optional string for color order style;\n",
       "            default: ('default')\n",
       "\u001b[1;31mFile:\u001b[0m      d:\\tzipperle\\python-tools\\mpl-style\\mpl_style\\style_base.py\n",
       "\u001b[1;31mType:\u001b[0m      method\n"
      ]
     },
     "metadata": {},
     "output_type": "display_data"
    }
   ],
   "source": [
    "ewk_plt.set_style?"
   ]
  },
  {
   "cell_type": "markdown",
   "metadata": {
    "slideshow": {
     "slide_type": "slide"
    }
   },
   "source": [
    "Daten mit Pandas einlesen"
   ]
  },
  {
   "cell_type": "code",
   "execution_count": 6,
   "metadata": {
    "collapsed": false,
    "slideshow": {
     "slide_type": "-"
    }
   },
   "outputs": [],
   "source": [
    "ghd_bs = pd.read_excel('ghd_bs.xlsx')\n",
    "ghd_bs = ghd_bs.set_index('jahr')"
   ]
  },
  {
   "cell_type": "code",
   "execution_count": 7,
   "metadata": {
    "collapsed": false,
    "slideshow": {
     "slide_type": "slide"
    }
   },
   "outputs": [
    {
     "data": {
      "text/html": [
       "<div>\n",
       "<style>\n",
       "    .dataframe thead tr:only-child th {\n",
       "        text-align: right;\n",
       "    }\n",
       "\n",
       "    .dataframe thead th {\n",
       "        text-align: left;\n",
       "    }\n",
       "\n",
       "    .dataframe tbody tr th {\n",
       "        vertical-align: top;\n",
       "    }\n",
       "</style>\n",
       "<table border=\"1\" class=\"dataframe\">\n",
       "  <thead>\n",
       "    <tr style=\"text-align: right;\">\n",
       "      <th></th>\n",
       "      <th>Steinkohle</th>\n",
       "      <th>Braunkohle</th>\n",
       "      <th>Öl</th>\n",
       "      <th>Gas</th>\n",
       "      <th>Strom</th>\n",
       "      <th>Fernwärme</th>\n",
       "      <th>Erneuerbare Energien</th>\n",
       "    </tr>\n",
       "    <tr>\n",
       "      <th>jahr</th>\n",
       "      <th></th>\n",
       "      <th></th>\n",
       "      <th></th>\n",
       "      <th></th>\n",
       "      <th></th>\n",
       "      <th></th>\n",
       "      <th></th>\n",
       "    </tr>\n",
       "  </thead>\n",
       "  <tbody>\n",
       "    <tr>\n",
       "      <th>2011</th>\n",
       "      <td>15</td>\n",
       "      <td>2</td>\n",
       "      <td>302</td>\n",
       "      <td>390</td>\n",
       "      <td>507</td>\n",
       "      <td>86</td>\n",
       "      <td>44</td>\n",
       "    </tr>\n",
       "    <tr>\n",
       "      <th>2020</th>\n",
       "      <td>4</td>\n",
       "      <td>0</td>\n",
       "      <td>167</td>\n",
       "      <td>269</td>\n",
       "      <td>458</td>\n",
       "      <td>78</td>\n",
       "      <td>127</td>\n",
       "    </tr>\n",
       "    <tr>\n",
       "      <th>2025</th>\n",
       "      <td>2</td>\n",
       "      <td>0</td>\n",
       "      <td>127</td>\n",
       "      <td>213</td>\n",
       "      <td>438</td>\n",
       "      <td>70</td>\n",
       "      <td>153</td>\n",
       "    </tr>\n",
       "    <tr>\n",
       "      <th>2030</th>\n",
       "      <td>1</td>\n",
       "      <td>0</td>\n",
       "      <td>99</td>\n",
       "      <td>166</td>\n",
       "      <td>421</td>\n",
       "      <td>62</td>\n",
       "      <td>172</td>\n",
       "    </tr>\n",
       "    <tr>\n",
       "      <th>2040</th>\n",
       "      <td>0</td>\n",
       "      <td>0</td>\n",
       "      <td>65</td>\n",
       "      <td>102</td>\n",
       "      <td>395</td>\n",
       "      <td>48</td>\n",
       "      <td>197</td>\n",
       "    </tr>\n",
       "    <tr>\n",
       "      <th>2050</th>\n",
       "      <td>0</td>\n",
       "      <td>0</td>\n",
       "      <td>46</td>\n",
       "      <td>66</td>\n",
       "      <td>383</td>\n",
       "      <td>39</td>\n",
       "      <td>219</td>\n",
       "    </tr>\n",
       "  </tbody>\n",
       "</table>\n",
       "</div>"
      ],
      "text/plain": [
       "      Steinkohle  Braunkohle   Öl  Gas  Strom  Fernwärme  Erneuerbare Energien\n",
       "jahr                                                                          \n",
       "2011          15           2  302  390    507         86                    44\n",
       "2020           4           0  167  269    458         78                   127\n",
       "2025           2           0  127  213    438         70                   153\n",
       "2030           1           0   99  166    421         62                   172\n",
       "2040           0           0   65  102    395         48                   197\n",
       "2050           0           0   46   66    383         39                   219"
      ]
     },
     "execution_count": 7,
     "metadata": {},
     "output_type": "execute_result"
    }
   ],
   "source": [
    "ghd_bs.head(6)"
   ]
  },
  {
   "cell_type": "code",
   "execution_count": 8,
   "metadata": {
    "collapsed": false,
    "slideshow": {
     "slide_type": "fragment"
    }
   },
   "outputs": [
    {
     "data": {
      "text/plain": [
       "count      6.000000\n",
       "mean     201.000000\n",
       "std      118.101651\n",
       "min       66.000000\n",
       "25%      118.000000\n",
       "50%      189.500000\n",
       "75%      255.000000\n",
       "max      390.000000\n",
       "Name: Gas, dtype: float64"
      ]
     },
     "execution_count": 8,
     "metadata": {},
     "output_type": "execute_result"
    }
   ],
   "source": [
    "ghd_bs.Gas.describe()"
   ]
  },
  {
   "cell_type": "markdown",
   "metadata": {
    "slideshow": {
     "slide_type": "slide"
    }
   },
   "source": [
    "Plot Style `enfo` auswählen:"
   ]
  },
  {
   "cell_type": "code",
   "execution_count": 9,
   "metadata": {
    "collapsed": false,
    "slideshow": {
     "slide_type": "-"
    }
   },
   "outputs": [],
   "source": [
    "ewk_plt.set_all_style(style='enfo')\n",
    "\n",
    "# Farben vom Style 'enfo' laden\n",
    "colors = ewk_plt.get_colors()"
   ]
  },
  {
   "cell_type": "code",
   "execution_count": 19,
   "metadata": {
    "collapsed": false,
    "slideshow": {
     "slide_type": "slide"
    }
   },
   "outputs": [
    {
     "data": {
      "text/plain": [
       "<matplotlib.text.Text at 0xdb14630>"
      ]
     },
     "execution_count": 19,
     "metadata": {},
     "output_type": "execute_result"
    },
    {
     "data": {
      "image/png": "[encoded data removed]",
      "text/plain": [
       "<matplotlib.figure.Figure at 0xcd74278>"
      ]
     },
     "metadata": {},
     "output_type": "display_data"
    }
   ],
   "source": [
    "gs = mpl.gridspec.GridSpec(2, 1, height_ratios=[1, 0.1])\n",
    "fig = plt.figure(figsize=[9, 8])\n",
    "ax = fig.add_subplot(gs[0])\n",
    "\n",
    "color = [colors[i] for i in ghd_bs.columns]\n",
    "ghd_bs.plot.bar(ax=ax, stacked=True, width=0.5, edgecolor=None,\n",
    "            zorder=2, rot=0, legend=False, color=color)\n",
    "\n",
    "handles, labels = ax.get_legend_handles_labels()\n",
    "ax.legend(handles, labels, loc='upper center', ncol=3,\n",
    "          bbox_to_anchor=(0.5, -0.04))\n",
    "\n",
    "ax.set_xlabel('').set_visible(False)\n",
    "ax.set_title('Endenergie PJ', fontsize=20, fontweight='bold')"
   ]
  },
  {
   "cell_type": "code",
   "execution_count": 11,
   "metadata": {
    "collapsed": false,
    "slideshow": {
     "slide_type": "slide"
    }
   },
   "outputs": [
    {
     "name": "stdout",
     "output_type": "stream",
     "text": [
      "Variable   Type           Data/Info\n",
      "-----------------------------------\n",
      "PLTewk     type           <class 'mpl_style.style_ewk.PLTewk'>\n",
      "ax         AxesSubplot    Axes(0.125,0.243636;0.775x0.636364)\n",
      "color      list           n=7\n",
      "colors     dict           n=8\n",
      "ewk_plt    PLTewk         <mpl_style.style_ewk.PLTe<...>ct at 0x000000000AE9A438>\n",
      "fig        Figure         Figure(1600x900)\n",
      "ghd_bs     DataFrame            Steinkohle  Braunko<...> 39                   219\n",
      "gs         GridSpec       <matplotlib.gridspec.Grid<...>ct at 0x000000000AFAA9E8>\n",
      "handles    list           n=7\n",
      "labels     list           n=7\n"
     ]
    }
   ],
   "source": [
    "%whos"
   ]
  }
 ],
 "metadata": {
  "anaconda-cloud": {},
  "celltoolbar": "Slideshow",
  "kernelspec": {
   "display_name": "Python 3",
   "language": "python",
   "name": "python3"
  },
  "language_info": {
   "codemirror_mode": {
    "name": "ipython",
    "version": 3
   },
   "file_extension": ".py",
   "mimetype": "text/x-python",
   "name": "python",
   "nbconvert_exporter": "python",
   "pygments_lexer": "ipython3",
   "version": "3.6.1"
  }
 },
 "nbformat": 4,
 "nbformat_minor": 2
}
