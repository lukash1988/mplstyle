{
 "cells": [
  {
   "cell_type": "markdown",
   "metadata": {
    "collapsed": true,
    "slideshow": {
     "slide_type": "slide"
    }
   },
   "source": [
    "Beispiel für die Anwendung des `mpl_style` Paket\n",
    "------\n",
    "\n",
    "Mit dem Paket hat man folgende Möglichkeiten seinen `Plot style` zu definieren:\n",
    "* plt_style: Einstellung der Formatierungen; default: ('default')\n",
    "* color_style: Eigene Farben festlegen; default: ('default')\n",
    "* color_order_style: Eigene Farben in eine gewünschte Reihenfolge sortieren; default: ('default')\n",
    "* enable_color_order: Auswahl der Reihnenfolge ein oder ausschalten; default: (False)"
   ]
  },
  {
   "cell_type": "markdown",
   "metadata": {
    "slideshow": {
     "slide_type": "slide"
    }
   },
   "source": [
    "### Wichtig!\n",
    "\n",
    "Das Beispiel funktioniert nur wenn das Package im Python-Pfad enthalten ist.\n",
    "\n",
    "\n",
    "* [keep always on the Python search path](http://stackoverflow.com/q/17806673/2375855) so you can include them like installed site-packages"
   ]
  },
  {
   "cell_type": "markdown",
   "metadata": {
    "slideshow": {
     "slide_type": "slide"
    }
   },
   "source": [
    "### [Built-in magic commands](http://ipython.readthedocs.io/en/stable/interactive/magics.html?highlight=magic)\n",
    "\n",
    "* Magic commands sind IPython spezifisch\n",
    "* Sie beginnen mit einem % und bieten viele nützliche Funktionen"
   ]
  },
  {
   "cell_type": "code",
   "execution_count": 1,
   "metadata": {
    "collapsed": false,
    "slideshow": {
     "slide_type": "fragment"
    }
   },
   "outputs": [
    {
     "data": {},
     "metadata": {},
     "output_type": "display_data"
    },
    {
     "name": "stdout",
     "output_type": "stream",
     "text": [
      "Autosaving every 3 seconds\n"
     ]
    }
   ],
   "source": [
    "%matplotlib inline\n",
    "%autosave 3"
   ]
  },
  {
   "cell_type": "code",
   "execution_count": 2,
   "metadata": {
    "collapsed": false,
    "slideshow": {
     "slide_type": "slide"
    }
   },
   "outputs": [],
   "source": [
    "import pandas as pd\n",
    "import numpy as np\n",
    "import matplotlib.pyplot as plt\n",
    "import matplotlib as mpl"
   ]
  },
  {
   "cell_type": "markdown",
   "metadata": {
    "collapsed": true,
    "slideshow": {
     "slide_type": "fragment"
    }
   },
   "source": [
    "#### Klasse `mpl_style` importieren\n",
    "\n",
    "* beim initialisieren wird automatisch der default Style eingestellt"
   ]
  },
  {
   "cell_type": "code",
   "execution_count": 3,
   "metadata": {
    "collapsed": true,
    "slideshow": {
     "slide_type": "-"
    }
   },
   "outputs": [],
   "source": [
    "from mpl_style.style_ewk import PLTewk\n",
    "ewk_plt = PLTewk()"
   ]
  },
  {
   "cell_type": "markdown",
   "metadata": {
    "slideshow": {
     "slide_type": "slide"
    }
   },
   "source": [
    "Doku für den Befehl `set_style` anschauen:"
   ]
  },
  {
   "cell_type": "code",
   "execution_count": 4,
   "metadata": {
    "collapsed": true,
    "slideshow": {
     "slide_type": "-"
    }
   },
   "outputs": [],
   "source": [
    "ewk_plt.set_style?"
   ]
  },
  {
   "cell_type": "markdown",
   "metadata": {
    "slideshow": {
     "slide_type": "slide"
    }
   },
   "source": [
    "Daten mit Pandas einlesen"
   ]
  },
  {
   "cell_type": "code",
   "execution_count": 5,
   "metadata": {
    "collapsed": false,
    "slideshow": {
     "slide_type": "-"
    }
   },
   "outputs": [],
   "source": [
    "ghd_bs = pd.read_excel('ghd_bs.xlsx')\n",
    "ghd_bs = ghd_bs.set_index('jahr')"
   ]
  },
  {
   "cell_type": "code",
   "execution_count": 6,
   "metadata": {
    "collapsed": false,
    "slideshow": {
     "slide_type": "slide"
    }
   },
   "outputs": [
    {
     "data": {
      "text/html": [
       "<div>\n",
       "<table border=\"1\" class=\"dataframe\">\n",
       "  <thead>\n",
       "    <tr style=\"text-align: right;\">\n",
       "      <th></th>\n",
       "      <th>Steinkohle</th>\n",
       "      <th>Braunkohle</th>\n",
       "      <th>Öl</th>\n",
       "      <th>Gas</th>\n",
       "      <th>Strom</th>\n",
       "      <th>Fernwärme</th>\n",
       "      <th>Erneuerbare Energien</th>\n",
       "    </tr>\n",
       "    <tr>\n",
       "      <th>jahr</th>\n",
       "      <th></th>\n",
       "      <th></th>\n",
       "      <th></th>\n",
       "      <th></th>\n",
       "      <th></th>\n",
       "      <th></th>\n",
       "      <th></th>\n",
       "    </tr>\n",
       "  </thead>\n",
       "  <tbody>\n",
       "    <tr>\n",
       "      <th>2011</th>\n",
       "      <td>15</td>\n",
       "      <td>2</td>\n",
       "      <td>302</td>\n",
       "      <td>390</td>\n",
       "      <td>507</td>\n",
       "      <td>86</td>\n",
       "      <td>44</td>\n",
       "    </tr>\n",
       "    <tr>\n",
       "      <th>2020</th>\n",
       "      <td>4</td>\n",
       "      <td>0</td>\n",
       "      <td>167</td>\n",
       "      <td>269</td>\n",
       "      <td>458</td>\n",
       "      <td>78</td>\n",
       "      <td>127</td>\n",
       "    </tr>\n",
       "    <tr>\n",
       "      <th>2025</th>\n",
       "      <td>2</td>\n",
       "      <td>0</td>\n",
       "      <td>127</td>\n",
       "      <td>213</td>\n",
       "      <td>438</td>\n",
       "      <td>70</td>\n",
       "      <td>153</td>\n",
       "    </tr>\n",
       "    <tr>\n",
       "      <th>2030</th>\n",
       "      <td>1</td>\n",
       "      <td>0</td>\n",
       "      <td>99</td>\n",
       "      <td>166</td>\n",
       "      <td>421</td>\n",
       "      <td>62</td>\n",
       "      <td>172</td>\n",
       "    </tr>\n",
       "    <tr>\n",
       "      <th>2040</th>\n",
       "      <td>0</td>\n",
       "      <td>0</td>\n",
       "      <td>65</td>\n",
       "      <td>102</td>\n",
       "      <td>395</td>\n",
       "      <td>48</td>\n",
       "      <td>197</td>\n",
       "    </tr>\n",
       "    <tr>\n",
       "      <th>2050</th>\n",
       "      <td>0</td>\n",
       "      <td>0</td>\n",
       "      <td>46</td>\n",
       "      <td>66</td>\n",
       "      <td>383</td>\n",
       "      <td>39</td>\n",
       "      <td>219</td>\n",
       "    </tr>\n",
       "  </tbody>\n",
       "</table>\n",
       "</div>"
      ],
      "text/plain": [
       "      Steinkohle  Braunkohle   Öl  Gas  Strom  Fernwärme  Erneuerbare Energien\n",
       "jahr                                                                          \n",
       "2011          15           2  302  390    507         86                    44\n",
       "2020           4           0  167  269    458         78                   127\n",
       "2025           2           0  127  213    438         70                   153\n",
       "2030           1           0   99  166    421         62                   172\n",
       "2040           0           0   65  102    395         48                   197\n",
       "2050           0           0   46   66    383         39                   219"
      ]
     },
     "execution_count": 6,
     "metadata": {},
     "output_type": "execute_result"
    }
   ],
   "source": [
    "ghd_bs.head(6)"
   ]
  },
  {
   "cell_type": "code",
   "execution_count": 7,
   "metadata": {
    "collapsed": false,
    "slideshow": {
     "slide_type": "fragment"
    }
   },
   "outputs": [
    {
     "data": {
      "text/plain": [
       "count      6.000000\n",
       "mean     201.000000\n",
       "std      118.101651\n",
       "min       66.000000\n",
       "25%      118.000000\n",
       "50%      189.500000\n",
       "75%      255.000000\n",
       "max      390.000000\n",
       "Name: Gas, dtype: float64"
      ]
     },
     "execution_count": 7,
     "metadata": {},
     "output_type": "execute_result"
    }
   ],
   "source": [
    "ghd_bs.Gas.describe()"
   ]
  },
  {
   "cell_type": "markdown",
   "metadata": {
    "slideshow": {
     "slide_type": "slide"
    }
   },
   "source": [
    "Plot Style `enfo` auswählen:"
   ]
  },
  {
   "cell_type": "code",
   "execution_count": 8,
   "metadata": {
    "collapsed": false,
    "slideshow": {
     "slide_type": "-"
    }
   },
   "outputs": [],
   "source": [
    "ewk_plt.set_all_style(style='enfo')\n",
    "\n",
    "# Farben vom Style 'enfo' laden\n",
    "colors = ewk_plt.get_colors()"
   ]
  },
  {
   "cell_type": "code",
   "execution_count": 1,
   "metadata": {
    "collapsed": false,
    "slideshow": {
     "slide_type": "slide"
    }
   },
   "outputs": [
    {
     "ename": "NameError",
     "evalue": "name 'ghd_bs' is not defined",
     "traceback": [
      "\u001b[0;31m---------------------------------------------------------------------------\u001b[0m",
      "\u001b[0;31mNameError\u001b[0m                                 Traceback (most recent call last)",
      "\u001b[0;32m<ipython-input-1-2f7bcf78d75d>\u001b[0m in \u001b[0;36m<module>\u001b[0;34m()\u001b[0m\n\u001b[1;32m      3\u001b[0m \u001b[0max\u001b[0m \u001b[1;33m=\u001b[0m \u001b[0mfig\u001b[0m\u001b[1;33m.\u001b[0m\u001b[0madd_subplot\u001b[0m\u001b[1;33m(\u001b[0m\u001b[0mgs\u001b[0m\u001b[1;33m[\u001b[0m\u001b[1;36m0\u001b[0m\u001b[1;33m]\u001b[0m\u001b[1;33m)\u001b[0m\u001b[1;33m\u001b[0m\u001b[0m\n\u001b[1;32m      4\u001b[0m \u001b[1;33m\u001b[0m\u001b[0m\n\u001b[0;32m----> 5\u001b[0;31m \u001b[0mcolor\u001b[0m \u001b[1;33m=\u001b[0m \u001b[1;33m[\u001b[0m\u001b[0mcolors\u001b[0m\u001b[1;33m[\u001b[0m\u001b[0mi\u001b[0m\u001b[1;33m]\u001b[0m \u001b[1;32mfor\u001b[0m \u001b[0mi\u001b[0m \u001b[1;32min\u001b[0m \u001b[0mghd_bs\u001b[0m\u001b[1;33m.\u001b[0m\u001b[0mcolumns\u001b[0m\u001b[1;33m]\u001b[0m\u001b[1;33m\u001b[0m\u001b[0m\n\u001b[0m\u001b[1;32m      6\u001b[0m ghd_bs.plot.bar(ax=ax, stacked=True, width=0.5, edgecolor=None,\n\u001b[1;32m      7\u001b[0m             zorder=2, rot=0, legend=False, color=color)\n",
      "\u001b[0;31mNameError\u001b[0m: name 'ghd_bs' is not defined"
     ],
     "output_type": "error"
    }
   ],
   "source": [
    "gs = mpl.gridspec.GridSpec(2, 1, height_ratios=[1, 0.1])\n",
    "fig = plt.figure(figsize=[16, 9])\n",
    "ax = fig.add_subplot(gs[0])\n",
    "\n",
    "color = [colors[i] for i in ghd_bs.columns]\n",
    "ghd_bs.plot.bar(ax=ax, stacked=True, width=0.5, edgecolor=None,\n",
    "            zorder=2, rot=0, legend=False, color=color)\n",
    "\n",
    "handles, labels = ax.get_legend_handles_labels()\n",
    "ax.legend(handles, labels, loc='upper center', ncol=3,\n",
    "          bbox_to_anchor=(0.5, -0.04))\n",
    "\n",
    "ax.set_xlabel('').set_visible(False)\n",
    "ax.set_title('Endenergie PJ', fontsize=20, fontweight='bold')"
   ]
  },
  {
   "cell_type": "code",
   "execution_count": 10,
   "metadata": {
    "collapsed": false,
    "slideshow": {
     "slide_type": "slide"
    }
   },
   "outputs": [
    {
     "name": "stdout",
     "output_type": "stream",
     "text": [
      "Variable   Type           Data/Info\n",
      "-----------------------------------\n",
      "PLTewk     type           <class 'mpl_style.style_ewk.PLTewk'>\n",
      "ax         AxesSubplot    Axes(0.0538889,0.169888;0.927049x0.768631)\n",
      "color      list           n=7\n",
      "colors     dict           n=8\n",
      "ewk_plt    PLTewk         <mpl_style.style_ewk.PLTe<...>ct at 0x000000000AF657B8>\n",
      "fig        Figure         Figure(1600x900)\n",
      "ghd_bs     DataFrame            Steinkohle  Braunko<...> 39                   219\n",
      "gs         GridSpec       <matplotlib.gridspec.Grid<...>ct at 0x000000000B8230F0>\n",
      "handles    list           n=7\n",
      "labels     list           n=7\n"
     ]
    }
   ],
   "source": [
    "%whos"
   ]
  },
  {
   "cell_type": "code",
   "execution_count": 11,
   "metadata": {
    "collapsed": true,
    "slideshow": {
     "slide_type": "skip"
    }
   },
   "outputs": [],
   "source": [
    "%magic"
   ]
  }
 ],
 "metadata": {
  "anaconda-cloud": {},
  "celltoolbar": "Slideshow",
  "kernelspec": {
   "display_name": "Python [default]",
   "language": "python",
   "name": "python3"
  },
  "language_info": {
   "codemirror_mode": {
    "name": "ipython",
    "version": 3.0
   },
   "file_extension": ".py",
   "mimetype": "text/x-python",
   "name": "python",
   "nbconvert_exporter": "python",
   "pygments_lexer": "ipython3",
   "version": "3.5.2"
  }
 },
 "nbformat": 4,
 "nbformat_minor": 0
}