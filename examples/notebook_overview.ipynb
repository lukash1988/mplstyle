{
 "cells": [
  {
   "cell_type": "markdown",
   "metadata": {
    "slideshow": {
     "slide_type": "slide"
    }
   },
   "source": [
    "Example of using the `mplstyle` package\n",
    "----------------------------------------\n",
    "\n",
    "With the package you have the following possibilities to define your `style`:\n",
    "\n",
    "* plt_style: Set the formattingn; default: `default`\n",
    "* color_style: Set the colors; default: `default`\n",
    "* color_order_style: Set the color order; default: `default`"
   ]
  },
  {
   "cell_type": "code",
   "execution_count": 1,
   "metadata": {
    "slideshow": {
     "slide_type": "fragment"
    }
   },
   "outputs": [],
   "source": [
    "%matplotlib inline"
   ]
  },
  {
   "cell_type": "code",
   "execution_count": 2,
   "metadata": {
    "slideshow": {
     "slide_type": "slide"
    }
   },
   "outputs": [],
   "source": [
    "import pandas as pd\n",
    "import numpy as np\n",
    "import matplotlib.pyplot as plt\n",
    "import matplotlib as mpl"
   ]
  },
  {
   "cell_type": "markdown",
   "metadata": {
    "slideshow": {
     "slide_type": "fragment"
    }
   },
   "source": [
    "## Import `mplstyle` class\n",
    "\n",
    "when initializing, the default style is automatically set"
   ]
  },
  {
   "cell_type": "code",
   "execution_count": 3,
   "metadata": {
    "collapsed": true,
    "slideshow": {
     "slide_type": "-"
    }
   },
   "outputs": [],
   "source": [
    "from mplstyle.enfo import PLTenfo\n",
    "from mplstyle.tz import PLTtz\n",
    "enfo_plt = PLTenfo()\n",
    "tz_plt = PLTtz()"
   ]
  },
  {
   "cell_type": "markdown",
   "metadata": {
    "slideshow": {
     "slide_type": "slide"
    }
   },
   "source": [
    "### Read the data"
   ]
  },
  {
   "cell_type": "code",
   "execution_count": 4,
   "metadata": {
    "slideshow": {
     "slide_type": "-"
    }
   },
   "outputs": [],
   "source": [
    "ghd_bs = pd.read_csv('data/ghd_bs.csv')\n",
    "ghd_bs = ghd_bs.set_index('jahr')"
   ]
  },
  {
   "cell_type": "code",
   "execution_count": 5,
   "metadata": {
    "slideshow": {
     "slide_type": "slide"
    }
   },
   "outputs": [
    {
     "data": {
      "text/html": [
       "<div>\n",
       "<style>\n",
       "    .dataframe thead tr:only-child th {\n",
       "        text-align: right;\n",
       "    }\n",
       "\n",
       "    .dataframe thead th {\n",
       "        text-align: left;\n",
       "    }\n",
       "\n",
       "    .dataframe tbody tr th {\n",
       "        vertical-align: top;\n",
       "    }\n",
       "</style>\n",
       "<table border=\"1\" class=\"dataframe\">\n",
       "  <thead>\n",
       "    <tr style=\"text-align: right;\">\n",
       "      <th></th>\n",
       "      <th>Steinkohle</th>\n",
       "      <th>Braunkohle</th>\n",
       "      <th>Öl</th>\n",
       "      <th>Gas</th>\n",
       "      <th>Strom</th>\n",
       "      <th>Fernwärme</th>\n",
       "      <th>Erneuerbare Energien</th>\n",
       "    </tr>\n",
       "    <tr>\n",
       "      <th>jahr</th>\n",
       "      <th></th>\n",
       "      <th></th>\n",
       "      <th></th>\n",
       "      <th></th>\n",
       "      <th></th>\n",
       "      <th></th>\n",
       "      <th></th>\n",
       "    </tr>\n",
       "  </thead>\n",
       "  <tbody>\n",
       "    <tr>\n",
       "      <th>2011</th>\n",
       "      <td>15</td>\n",
       "      <td>2</td>\n",
       "      <td>302</td>\n",
       "      <td>390</td>\n",
       "      <td>507</td>\n",
       "      <td>86</td>\n",
       "      <td>44</td>\n",
       "    </tr>\n",
       "    <tr>\n",
       "      <th>2020</th>\n",
       "      <td>4</td>\n",
       "      <td>0</td>\n",
       "      <td>167</td>\n",
       "      <td>269</td>\n",
       "      <td>458</td>\n",
       "      <td>78</td>\n",
       "      <td>127</td>\n",
       "    </tr>\n",
       "    <tr>\n",
       "      <th>2025</th>\n",
       "      <td>2</td>\n",
       "      <td>0</td>\n",
       "      <td>127</td>\n",
       "      <td>213</td>\n",
       "      <td>438</td>\n",
       "      <td>70</td>\n",
       "      <td>153</td>\n",
       "    </tr>\n",
       "    <tr>\n",
       "      <th>2030</th>\n",
       "      <td>1</td>\n",
       "      <td>0</td>\n",
       "      <td>99</td>\n",
       "      <td>166</td>\n",
       "      <td>421</td>\n",
       "      <td>62</td>\n",
       "      <td>172</td>\n",
       "    </tr>\n",
       "    <tr>\n",
       "      <th>2040</th>\n",
       "      <td>0</td>\n",
       "      <td>0</td>\n",
       "      <td>65</td>\n",
       "      <td>102</td>\n",
       "      <td>395</td>\n",
       "      <td>48</td>\n",
       "      <td>197</td>\n",
       "    </tr>\n",
       "    <tr>\n",
       "      <th>2050</th>\n",
       "      <td>0</td>\n",
       "      <td>0</td>\n",
       "      <td>46</td>\n",
       "      <td>66</td>\n",
       "      <td>383</td>\n",
       "      <td>39</td>\n",
       "      <td>219</td>\n",
       "    </tr>\n",
       "  </tbody>\n",
       "</table>\n",
       "</div>"
      ],
      "text/plain": [
       "      Steinkohle  Braunkohle   Öl  Gas  Strom  Fernwärme  Erneuerbare Energien\n",
       "jahr                                                                          \n",
       "2011          15           2  302  390    507         86                    44\n",
       "2020           4           0  167  269    458         78                   127\n",
       "2025           2           0  127  213    438         70                   153\n",
       "2030           1           0   99  166    421         62                   172\n",
       "2040           0           0   65  102    395         48                   197\n",
       "2050           0           0   46   66    383         39                   219"
      ]
     },
     "execution_count": 5,
     "metadata": {},
     "output_type": "execute_result"
    }
   ],
   "source": [
    "ghd_bs.head(6)"
   ]
  },
  {
   "cell_type": "code",
   "execution_count": 6,
   "metadata": {
    "slideshow": {
     "slide_type": "fragment"
    }
   },
   "outputs": [
    {
     "data": {
      "text/plain": [
       "count      6.000000\n",
       "mean     201.000000\n",
       "std      118.101651\n",
       "min       66.000000\n",
       "25%      118.000000\n",
       "50%      189.500000\n",
       "75%      255.000000\n",
       "max      390.000000\n",
       "Name: Gas, dtype: float64"
      ]
     },
     "execution_count": 6,
     "metadata": {},
     "output_type": "execute_result"
    }
   ],
   "source": [
    "ghd_bs.Gas.describe()"
   ]
  },
  {
   "cell_type": "markdown",
   "metadata": {
    "slideshow": {
     "slide_type": "slide"
    }
   },
   "source": [
    "### Set `plt_style` "
   ]
  },
  {
   "cell_type": "code",
   "execution_count": 7,
   "metadata": {},
   "outputs": [
    {
     "name": "stdout",
     "output_type": "stream",
     "text": [
      "Available styles:\n",
      "\n",
      "color_style: ['default', 'blue', 'mpl2_colors']\n",
      "color_order_style: ['default', 'blue', 'mpl2_colors']\n",
      "plt_style: ['default', 'jupyter-notebook']\n"
     ]
    }
   ],
   "source": [
    "tz_plt.get_available_styles()"
   ]
  },
  {
   "cell_type": "code",
   "execution_count": 8,
   "metadata": {},
   "outputs": [],
   "source": [
    "tz_plt.set_style(plt_style='jupyter-notebook')"
   ]
  },
  {
   "cell_type": "markdown",
   "metadata": {},
   "source": [
    "### Set `color_style`"
   ]
  },
  {
   "cell_type": "code",
   "execution_count": 9,
   "metadata": {},
   "outputs": [
    {
     "name": "stdout",
     "output_type": "stream",
     "text": [
      "Available styles:\n",
      "\n",
      "color_style: ['default', 'enfo']\n",
      "color_order_style: ['default']\n",
      "plt_style: ['default', 'enfo']\n"
     ]
    }
   ],
   "source": [
    "enfo_plt.get_available_styles()"
   ]
  },
  {
   "cell_type": "code",
   "execution_count": 10,
   "metadata": {},
   "outputs": [],
   "source": [
    "enfo_plt.set_style(color_style='enfo')"
   ]
  },
  {
   "cell_type": "code",
   "execution_count": 11,
   "metadata": {},
   "outputs": [],
   "source": [
    "colors = enfo_plt.get_colors()"
   ]
  },
  {
   "cell_type": "code",
   "execution_count": 12,
   "metadata": {},
   "outputs": [
    {
     "data": {
      "text/plain": [
       "dict_keys(['Steinkohle', 'Braunkohle', 'Mineralölprodukte', 'Mineralöle', 'Öl', 'Gas', 'Erdgas', 'Nichterneuerbare Abfälle', 'Strom', 'Fernwärme', 'Erneuerbare Energien', 'Beleuchtung', 'Mechanische Energie', 'IKT', 'Prozesswärme', 'Warmwasser', 'Raumwärme', 'Prozesskälte', 'Klimakälte', 'Kühlen/Lüften/Haustechnik', 'Sonstige', 'Wasserstoff', 'Personenverkehr', 'Güterverkehr', 'Kernenergie', 'Nettoimporte Strom', 'Sonstige Sekundärenergieträger'])"
      ]
     },
     "execution_count": 12,
     "metadata": {},
     "output_type": "execute_result"
    }
   ],
   "source": [
    "enfo_plt.get_colors().keys()"
   ]
  },
  {
   "cell_type": "markdown",
   "metadata": {},
   "source": [
    "### Plot figuere: Energy consumption"
   ]
  },
  {
   "cell_type": "code",
   "execution_count": 13,
   "metadata": {
    "slideshow": {
     "slide_type": "slide"
    }
   },
   "outputs": [
    {
     "data": {
      "text/plain": [
       "Text(0.5,1,'Endenergie PJ')"
      ]
     },
     "execution_count": 13,
     "metadata": {},
     "output_type": "execute_result"
    },
    {
     "data": {
      "image/png": "[encoded data removed]",
      "text/plain": [
       "<matplotlib.figure.Figure at 0xaab1828>"
      ]
     },
     "metadata": {},
     "output_type": "display_data"
    }
   ],
   "source": [
    "fig, (ax0, ax1) = plt.subplots(2, 1, figsize=[9, 6],\n",
    "                               gridspec_kw={'height_ratios': [1, 0.1]})\n",
    "ax1.axis('off')\n",
    "\n",
    "color = [colors[i] for i in ghd_bs.columns]\n",
    "ghd_bs.plot.bar(ax=ax0, stacked=True, width=0.5, edgecolor=None, \n",
    "                zorder=2, rot=0, legend=False, color=color)\n",
    "\n",
    "handles, labels = ax0.get_legend_handles_labels()\n",
    "ax0.legend(handles, labels, loc='upper center', ncol=3,\n",
    "          bbox_to_anchor=(0.5, -0.05))\n",
    "\n",
    "ax0.set_xlabel('').set_visible(False)\n",
    "ax0.set_title('Endenergie PJ', fontsize=20, fontweight='bold')"
   ]
  },
  {
   "cell_type": "markdown",
   "metadata": {
    "slideshow": {
     "slide_type": "slide"
    }
   },
   "source": [
    "### View documentation"
   ]
  },
  {
   "cell_type": "code",
   "execution_count": 14,
   "metadata": {
    "collapsed": true,
    "slideshow": {
     "slide_type": "-"
    }
   },
   "outputs": [
    {
     "data": {
      "text/plain": [
       "\u001b[1;31mSignature:\u001b[0m \u001b[0menfo_plt\u001b[0m\u001b[1;33m.\u001b[0m\u001b[0mset_style\u001b[0m\u001b[1;33m(\u001b[0m\u001b[1;33m*\u001b[0m\u001b[0margs\u001b[0m\u001b[1;33m,\u001b[0m \u001b[1;33m**\u001b[0m\u001b[0mkwargs\u001b[0m\u001b[1;33m)\u001b[0m\u001b[1;33m\u001b[0m\u001b[0m\n",
       "\u001b[1;31mDocstring:\u001b[0m\n",
       "Set plot style, colors and color order.\n",
       "\n",
       "Args:\n",
       "    *args: optional string for the uniform style; i.e. non-key worded\n",
       "        ('default')\n",
       "    plt_style: optional string for plt style;\n",
       "        (plt_style='default')\n",
       "    color_style: optional string for color order;\n",
       "        (color_style='default')\n",
       "    color_order_style: optional string for color order style;\n",
       "            (color_order_style='default')\n",
       "\u001b[1;31mFile:\u001b[0m      d:\\tzipperle\\python-tools\\mplstyle\\mplstyle\\base.py\n",
       "\u001b[1;31mType:\u001b[0m      method\n"
      ]
     },
     "metadata": {},
     "output_type": "display_data"
    }
   ],
   "source": [
    "enfo_plt.set_style?"
   ]
  },
  {
   "cell_type": "code",
   "execution_count": 15,
   "metadata": {
    "slideshow": {
     "slide_type": "slide"
    }
   },
   "outputs": [
    {
     "name": "stdout",
     "output_type": "stream",
     "text": [
      "Variable   Type           Data/Info\n",
      "-----------------------------------\n",
      "PLTenfo    type           <class 'mplstyle.enfo.PLTenfo'>\n",
      "PLTtz      type           <class 'mplstyle.tz.PLTtz'>\n",
      "ax0        AxesSubplot    AxesSubplot(0.125,0.243636;0.775x0.636364)\n",
      "ax1        AxesSubplot    AxesSubplot(0.125,0.11;0.775x0.0636364)\n",
      "color      list           n=7\n",
      "colors     dict           n=27\n",
      "enfo_plt   PLTenfo        <mplstyle.enfo.PLTenfo ob<...>ct at 0x000000000AA0CF28>\n",
      "fig        Figure         Figure(900x600)\n",
      "ghd_bs     DataFrame            Steinkohle  Braunko<...> 39                   219\n",
      "handles    list           n=7\n",
      "labels     list           n=7\n",
      "tz_plt     PLTtz          <mplstyle.tz.PLTtz object at 0x000000000AA0CEF0>\n"
     ]
    }
   ],
   "source": [
    "%whos"
   ]
  }
 ],
 "metadata": {
  "anaconda-cloud": {},
  "celltoolbar": "Slideshow",
  "kernelspec": {
   "display_name": "Python 3",
   "language": "python",
   "name": "python3"
  },
  "language_info": {
   "codemirror_mode": {
    "name": "ipython",
    "version": 3
   },
   "file_extension": ".py",
   "mimetype": "text/x-python",
   "name": "python",
   "nbconvert_exporter": "python",
   "pygments_lexer": "ipython3",
   "version": "3.6.3"
  }
 },
 "nbformat": 4,
 "nbformat_minor": 2
}
